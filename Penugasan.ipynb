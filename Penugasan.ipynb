{
  "nbformat": 4,
  "nbformat_minor": 0,
  "metadata": {
    "colab": {
      "provenance": [],
      "authorship_tag": "ABX9TyOpcyKN9gyLeWpzNJiP6ZXS",
      "include_colab_link": true
    },
    "kernelspec": {
      "name": "python3",
      "display_name": "Python 3"
    },
    "language_info": {
      "name": "python"
    }
  },
  "cells": [
    {
      "cell_type": "markdown",
      "metadata": {
        "id": "view-in-github",
        "colab_type": "text"
      },
      "source": [
        "<a href=\"https://colab.research.google.com/github/zaki43325010/Tugas-AlPro-3/blob/main/Penugasan.ipynb\" target=\"_parent\"><img src=\"https://colab.research.google.com/assets/colab-badge.svg\" alt=\"Open In Colab\"/></a>"
      ]
    },
    {
      "cell_type": "markdown",
      "source": [
        "#3.\tCek Bilangan Positif/Negatif/Nol"
      ],
      "metadata": {
        "id": "rmiQQh4_f7Ad"
      }
    },
    {
      "cell_type": "code",
      "execution_count": 8,
      "metadata": {
        "colab": {
          "base_uri": "https://localhost:8080/"
        },
        "id": "TUENkJ3KftuD",
        "outputId": "ad55bb31-3174-47b1-ab9e-08c763e72ee7"
      },
      "outputs": [
        {
          "output_type": "stream",
          "name": "stdout",
          "text": [
            "Masukkan angka: -1\n",
            "Bilangan negatif\n"
          ]
        }
      ],
      "source": [
        "angka= int(input(\"Masukkan angka: \"))\n",
        "if angka > 0:\n",
        "  print(\"Bilangan positif\")\n",
        "elif angka <0:\n",
        "  print(\"Bilangan negatif\")\n",
        "else:\n",
        "  print(\"Bilangan nol\")"
      ]
    },
    {
      "cell_type": "markdown",
      "source": [
        "#4.\tMenentukan Kategori Usia"
      ],
      "metadata": {
        "id": "22fO2T9khbcT"
      }
    },
    {
      "cell_type": "code",
      "source": [
        "umur= int(input(\"Masukkan umur: \"))\n",
        "if umur<5:\n",
        "  print(\"Balita\")\n",
        "elif umur<=11:\n",
        "  print(\"Anak-anak\")\n",
        "elif umur<=17:\n",
        "  print(\"Remaja\")\n",
        "elif umur<=59:\n",
        "  print(\"Dewasa\")\n",
        "else:\n",
        "  print(\"Lansia\")"
      ],
      "metadata": {
        "colab": {
          "base_uri": "https://localhost:8080/"
        },
        "id": "BLhm73xQhYI1",
        "outputId": "b9cc4545-3e9f-45e3-9539-6edb705ac023"
      },
      "execution_count": 13,
      "outputs": [
        {
          "output_type": "stream",
          "name": "stdout",
          "text": [
            "Masukkan umur: 4\n",
            "Balita\n"
          ]
        }
      ]
    },
    {
      "cell_type": "markdown",
      "source": [
        "#5.\tHitung Tarif Parkir"
      ],
      "metadata": {
        "id": "r9BWmEQIir5p"
      }
    },
    {
      "cell_type": "code",
      "source": [
        "jam=int(input(\"Masukkan lama parkir (jam): \"))\n",
        "if jam<=2:\n",
        "  tarif=5000\n",
        "elif jam>2:\n",
        "  tarif=5000+(jam-2)*2000\n",
        "  if tarif>20000:\n",
        "    tarif=20000\n",
        "else:\n",
        "  tarif=0\n",
        "print(\"Tarif anda adalah:\",tarif)"
      ],
      "metadata": {
        "colab": {
          "base_uri": "https://localhost:8080/"
        },
        "id": "a_1eFaS4itLs",
        "outputId": "e3fb172a-41ec-4036-9445-1ffe8d605e9d"
      },
      "execution_count": 23,
      "outputs": [
        {
          "output_type": "stream",
          "name": "stdout",
          "text": [
            "Masukkan lama parkir (jam): 10\n",
            "Tarif anda adalah: 20000\n"
          ]
        }
      ]
    },
    {
      "cell_type": "markdown",
      "source": [
        "#6.\tCek Login Sederhana"
      ],
      "metadata": {
        "id": "5TCe7p_em4H7"
      }
    },
    {
      "cell_type": "code",
      "source": [
        "username=\"admin\"\n",
        "password=\"1234\"\n",
        "usn=str(input(\"Masukkan username: \"))\n",
        "pw=str(input(\"Masukkan password: \"))\n",
        "\n",
        "if usn==username and pw==password:\n",
        "  print(\"Login berhasil\")\n",
        "else:\n",
        "  print(\"Login gagal\")"
      ],
      "metadata": {
        "colab": {
          "base_uri": "https://localhost:8080/"
        },
        "id": "bYJFcMONm889",
        "outputId": "456495fa-1498-4f17-a4b7-487f7421f641"
      },
      "execution_count": 26,
      "outputs": [
        {
          "output_type": "stream",
          "name": "stdout",
          "text": [
            "Masukkan username: jeki\n",
            "Masukkan password: 4567\n",
            "Login gagal\n"
          ]
        }
      ]
    },
    {
      "cell_type": "markdown",
      "source": [
        "#7.\tOne-Liner If (Cek Genap/Ganjil)"
      ],
      "metadata": {
        "id": "JgYLHmfNoF_q"
      }
    },
    {
      "cell_type": "code",
      "source": [
        "angka=int(input(\"Masukkan angka: \"))\n",
        "if angka%2==0:\n",
        "  print(\"Angka genap\")\n",
        "else:\n",
        "  print(\"Angka ganjil\")"
      ],
      "metadata": {
        "colab": {
          "base_uri": "https://localhost:8080/"
        },
        "id": "JwhF2uHRoIHl",
        "outputId": "39997c01-1f16-4268-c75f-e5d3fd802975"
      },
      "execution_count": 28,
      "outputs": [
        {
          "output_type": "stream",
          "name": "stdout",
          "text": [
            "Masukkan angka: 3\n",
            "Angka ganjil\n"
          ]
        }
      ]
    },
    {
      "cell_type": "markdown",
      "source": [
        "#8.\tMenu Restoran dengan Match-Case"
      ],
      "metadata": {
        "id": "UYgr7x17ozPg"
      }
    },
    {
      "cell_type": "code",
      "source": [
        "menu=int(input(\"Pilih menu(1-3): \"))\n",
        "\n",
        "match menu:\n",
        "  case 1:\n",
        "    print(\"Anda memilih Nasi Goreng\")\n",
        "  case 2:\n",
        "    print(\"Anda memilih Mie Ayam\")\n",
        "  case 3:\n",
        "    print(\"Anda memilih Soto Ayam\")\n",
        "  case _:\n",
        "    print(\"Menu tidak tersedia\")"
      ],
      "metadata": {
        "colab": {
          "base_uri": "https://localhost:8080/"
        },
        "id": "McZliwYoo2US",
        "outputId": "76e39d48-5bdc-42d5-b743-0de3131aae60"
      },
      "execution_count": 30,
      "outputs": [
        {
          "output_type": "stream",
          "name": "stdout",
          "text": [
            "Pilih menu(1-3): 4\n",
            "Menu tidak tersedia\n"
          ]
        }
      ]
    },
    {
      "cell_type": "markdown",
      "source": [
        "#9.\tStudi Kasus Nyata – Program Penentuan Diskon"
      ],
      "metadata": {
        "id": "Tbt9n_mlpdWV"
      }
    },
    {
      "cell_type": "code",
      "source": [
        "barang=input(\"Masukkan nama barang: \")\n",
        "harga=float(input(\"Masukkan harga barang: \"))\n",
        "jumlah=int(input(\"Masukkan jumlah batrang: \"))\n",
        "\n",
        "total= harga*jumlah\n",
        "if total>=500000:\n",
        "  diskon=0.2\n",
        "elif total>=250000:\n",
        "  diskon=0.1\n",
        "else:\n",
        "  diskon=0\n",
        "\n",
        "bayar=total-(total*diskon)\n",
        "print(\"===== Struk Belanja =====\")\n",
        "print(f\"Barang : {barang}\")\n",
        "print(f\"Jumlah : {jumlah}\")\n",
        "print(f\"Total : Rp {total}\")\n",
        "print(f\"Diskon : {diskon*100}%\")\n",
        "print(f\"Bayar : Rp {bayar}\")"
      ],
      "metadata": {
        "colab": {
          "base_uri": "https://localhost:8080/"
        },
        "id": "QNmt3rb6phjG",
        "outputId": "9ba189b4-8dba-4986-c5ac-a99c806b088d"
      },
      "execution_count": 31,
      "outputs": [
        {
          "output_type": "stream",
          "name": "stdout",
          "text": [
            "Masukkan nama barang: pulpen\n",
            "Masukkan harga barang: 2000\n",
            "Masukkan jumlah batrang: 2\n",
            "===== Struk Belanja =====\n",
            "Barang : pulpen\n",
            "Jumlah : 2\n",
            "Total : Rp 4000.0\n",
            "Diskon : 0%\n",
            "Bayar : Rp 4000.0\n"
          ]
        }
      ]
    }
  ]
}