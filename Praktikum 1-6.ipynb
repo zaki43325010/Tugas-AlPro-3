{
  "nbformat": 4,
  "nbformat_minor": 0,
  "metadata": {
    "colab": {
      "provenance": [],
      "authorship_tag": "ABX9TyMbPunSLdpIunpcl3QuVnNU",
      "include_colab_link": true
    },
    "kernelspec": {
      "name": "python3",
      "display_name": "Python 3"
    },
    "language_info": {
      "name": "python"
    }
  },
  "cells": [
    {
      "cell_type": "markdown",
      "metadata": {
        "id": "view-in-github",
        "colab_type": "text"
      },
      "source": [
        "<a href=\"https://colab.research.google.com/github/zaki43325010/Tugas-AlPro-3/blob/main/Praktikum%201-6.ipynb\" target=\"_parent\"><img src=\"https://colab.research.google.com/assets/colab-badge.svg\" alt=\"Open In Colab\"/></a>"
      ]
    },
    {
      "cell_type": "markdown",
      "source": [
        "#Praktikum 01 – If Sederhana"
      ],
      "metadata": {
        "id": "y7LwqiuNZjR4"
      }
    },
    {
      "cell_type": "code",
      "source": [
        "nilai=int(input(\"Masukkan nilai= \"))\n",
        "if nilai >= 60:\n",
        "    print(\"Anda LULUS\")"
      ],
      "metadata": {
        "colab": {
          "base_uri": "https://localhost:8080/"
        },
        "id": "JHwa8LTMZmNt",
        "outputId": "0bba84b2-ebee-4245-c34f-fb8d3fec9afd"
      },
      "execution_count": null,
      "outputs": [
        {
          "output_type": "stream",
          "name": "stdout",
          "text": [
            "Masukkan nilai= 70\n",
            "Anda LULUS\n"
          ]
        }
      ]
    },
    {
      "cell_type": "markdown",
      "source": [
        "#Praktikum 02 – If-Else"
      ],
      "metadata": {
        "id": "9TaS93cManru"
      }
    },
    {
      "cell_type": "code",
      "source": [
        "nilai=int(input(\"Masukkan nilai= \"))\n",
        "if nilai >= 60:\n",
        "  print(\"Anda LULUS\")\n",
        "else:\n",
        "  print(\"Anda TIDAK LULUS\")"
      ],
      "metadata": {
        "colab": {
          "base_uri": "https://localhost:8080/"
        },
        "id": "N6PZjSKgao4n",
        "outputId": "94d22b5f-0396-4b22-f521-8c2b2f26555a"
      },
      "execution_count": null,
      "outputs": [
        {
          "output_type": "stream",
          "name": "stdout",
          "text": [
            "Masukkan nilai= 50\n",
            "Anda TIDAK LULUS\n"
          ]
        }
      ]
    },
    {
      "cell_type": "markdown",
      "source": [
        "#Praktikum 03 – If-Elif-Else"
      ],
      "metadata": {
        "id": "FWrXh8-ba8M_"
      }
    },
    {
      "cell_type": "code",
      "source": [
        "nilai= int(input(\"Masukkan nilai= \"))\n",
        "if nilai >= 85:\n",
        "  print(\"Nilai Anda A\")\n",
        "elif nilai >= 70:\n",
        "  print(\"Nilai Anda B\")\n",
        "elif nilai >= 55:\n",
        "  print(\"Nilai Anda C\")\n",
        "elif nilai >= 40:\n",
        "  print(\"Nilai Anda D\")\n",
        "else:\n",
        "  print(\"Nilai Anda E\")"
      ],
      "metadata": {
        "colab": {
          "base_uri": "https://localhost:8080/"
        },
        "id": "dic47droa9St",
        "outputId": "d49c69fe-29fb-423a-ecb8-6697d09399e2"
      },
      "execution_count": null,
      "outputs": [
        {
          "output_type": "stream",
          "name": "stdout",
          "text": [
            "Masukkan nilai= 78\n",
            "Nilai Anda B\n"
          ]
        }
      ]
    },
    {
      "cell_type": "markdown",
      "source": [
        "#Praktikum 04 – Nested If"
      ],
      "metadata": {
        "id": "ACCZnUBnbkZM"
      }
    },
    {
      "cell_type": "code",
      "source": [
        "IPK=float(input(\"Masukkan IPK= \"))\n",
        "SKS=int(input(\"Masukkan SKS= \"))\n",
        "\n",
        "if IPK >= 3.0:\n",
        "  if SKS >= 18:\n",
        "    print(\"Anda layak mendapat beasiswa\")\n",
        "  else:\n",
        "    print(\"IPK anda memenuhi, SKS kurang\")\n",
        "else:\n",
        "  print(\"Tidak layak mendapat besiswa\")"
      ],
      "metadata": {
        "colab": {
          "base_uri": "https://localhost:8080/"
        },
        "id": "E_d6arVeblXv",
        "outputId": "842a1739-71a6-4849-808f-004a4b35b262"
      },
      "execution_count": null,
      "outputs": [
        {
          "output_type": "stream",
          "name": "stdout",
          "text": [
            "Masukkan IPK= 2.8\n",
            "Masukkan SKS= 20\n",
            "Tidak layak mendapat besiswa\n"
          ]
        }
      ]
    },
    {
      "cell_type": "markdown",
      "source": [
        "#Praktikum 05 – Match-Case"
      ],
      "metadata": {
        "id": "LYKppgjXeaSh"
      }
    },
    {
      "cell_type": "code",
      "source": [
        "menu=int(input(\"Pilih menu (1-5)= \"))\n",
        "\n",
        "match menu:\n",
        "  case 1:\n",
        "    print(\"Anda memilih Nasi Goreng\")\n",
        "  case 2:\n",
        "    print(\"Anda memilih Ayam Goreng\")\n",
        "  case 3:\n",
        "    print(\"Anda memilih Ayam Bakar\")\n",
        "  case 4:\n",
        "    print(\"Anda memilih Pecel\")\n",
        "  case 5:\n",
        "    print(\"Anda memilih Ayam Geprek\")\n",
        "  case _:\n",
        "    print(\"Menu tidak tersedia\")"
      ],
      "metadata": {
        "colab": {
          "base_uri": "https://localhost:8080/"
        },
        "id": "RmXuor0QebtJ",
        "outputId": "9fb9c85a-b7fc-451d-a2d7-c74af9ca2a26"
      },
      "execution_count": 5,
      "outputs": [
        {
          "output_type": "stream",
          "name": "stdout",
          "text": [
            "Pilih menu (1-5)= 9\n",
            "Menu tidak tersedia\n"
          ]
        }
      ]
    },
    {
      "cell_type": "markdown",
      "source": [
        "#Praktikum 06 – Studi Kasus: Program Kasir"
      ],
      "metadata": {
        "id": "qvnC7sF5fVPF"
      }
    },
    {
      "cell_type": "code",
      "source": [
        "barang = input(\"Masukkan nama barang: \")\n",
        "harga = float(input(\"Masukkan harga barang: \"))\n",
        "jumlah = int(input(\"Masukkan jumlah barang: \"))\n",
        "\n",
        "total = harga * jumlah\n",
        "if total >= 500000:\n",
        "  diskon = 0.2\n",
        "elif total >= 250000:\n",
        "  diskon = 0.1\n",
        "else:\n",
        "  diskon = 0\n",
        "\n",
        "bayar = total - (total * diskon)\n",
        "print(\"===== Struk Belanja =====\")\n",
        "print(f\"Barang : {barang}\")\n",
        "print(f\"Jumlah : {jumlah}\")\n",
        "print(f\"Total : Rp {total}\")\n",
        "print(f\"Diskon : {diskon*100}%\")\n",
        "print(f\"Bayar : Rp {bayar}\")"
      ],
      "metadata": {
        "colab": {
          "base_uri": "https://localhost:8080/"
        },
        "id": "kyOb7kFyfWeM",
        "outputId": "5d7e9742-5a92-4e45-f40d-bf885fb14ad5"
      },
      "execution_count": 8,
      "outputs": [
        {
          "output_type": "stream",
          "name": "stdout",
          "text": [
            "Masukkan nama barang: pulpen\n",
            "Masukkan harga barang: 5000\n",
            "Masukkan jumlah barang: 10\n",
            "===== Struk Belanja =====\n",
            "Barang : pulpen\n",
            "Jumlah : 10\n",
            "Total : Rp 50000.0\n",
            "Diskon : 0%\n",
            "Bayar : Rp 50000.0\n"
          ]
        }
      ]
    }
  ]
}